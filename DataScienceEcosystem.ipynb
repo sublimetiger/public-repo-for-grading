{
 "cells": [
  {
   "cell_type": "markdown",
   "id": "4bc0cb08",
   "metadata": {},
   "source": [
    "# Data Science Tools and Ecosystem"
   ]
  },
  {
   "cell_type": "markdown",
   "id": "89fd8cac",
   "metadata": {},
   "source": [
    "In this notebook, Data Science Tools and Ecosystem are summarized."
   ]
  },
  {
   "cell_type": "markdown",
   "id": "d8a86f5b",
   "metadata": {},
   "source": [
    "**Objectives:**\n",
    "- Max is a free open source respository for ready-to-use, customizable, deep learning microservices\n",
    "- Codepen is an online code editor for developers\n",
    "- APIs allow communication between two pieces of software\n",
    "- Scientific computing libraries contain built in nodes providing different functionalities that can be used directly\n",
    "- Repositories are data structures for storing documents including application source code which tracks and maintains version control"
   ]
  },
  {
   "cell_type": "markdown",
   "id": "aa2d21de",
   "metadata": {},
   "source": [
    "Some of the popular languages that Data Scientists use are:\n",
    "1. python\n",
    "2. r\n",
    "3. SQL\n",
    "4. Java"
   ]
  },
  {
   "cell_type": "markdown",
   "id": "9889f687",
   "metadata": {},
   "source": [
    "Some of the commonly used libraries used by Data Scientists include:\n",
    "1. Pandas\n",
    "2. NumPy\n",
    "3. Matplotlib\n",
    "4. Seaborn\n",
    "5. Scikit-learn\n",
    "6. Keras\n",
    "7. Vegas"
   ]
  },
  {
   "cell_type": "markdown",
   "id": "3576fff8",
   "metadata": {},
   "source": [
    "| Data Science Tools|\n",
    "|-----|\n",
    "|MySQL|\n",
    "|Apache Airflow|\n",
    "|Apache Kafka|"
   ]
  },
  {
   "cell_type": "markdown",
   "id": "db2ad5c8",
   "metadata": {},
   "source": [
    "### Below are a few examples of evaluating arithmetic expressions in Python"
   ]
  },
  {
   "cell_type": "code",
   "execution_count": 8,
   "id": "d20ca028",
   "metadata": {},
   "outputs": [
    {
     "data": {
      "text/plain": [
       "17"
      ]
     },
     "execution_count": 8,
     "metadata": {},
     "output_type": "execute_result"
    }
   ],
   "source": [
    "#this is a simple arithmetic expression to mutiply then add integers\n",
    "(3*4)+5"
   ]
  },
  {
   "cell_type": "code",
   "execution_count": 11,
   "id": "fee8e8b8",
   "metadata": {},
   "outputs": [
    {
     "name": "stdout",
     "output_type": "stream",
     "text": [
      "3.3333333333333335\n"
     ]
    }
   ],
   "source": [
    "#his will convert 200 minutes to hours by diving by 60\n",
    "minutes = 200\n",
    "hour = 60\n",
    "answer = minutes/hour\n",
    "print(answer)"
   ]
  },
  {
   "cell_type": "markdown",
   "id": "071b00be",
   "metadata": {},
   "source": [
    "## Author\n",
    "Kelly Queen"
   ]
  },
  {
   "cell_type": "code",
   "execution_count": null,
   "id": "40c7a4f0",
   "metadata": {},
   "outputs": [],
   "source": []
  }
 ],
 "metadata": {
  "kernelspec": {
   "display_name": "Python 3 (ipykernel)",
   "language": "python",
   "name": "python3"
  },
  "language_info": {
   "codemirror_mode": {
    "name": "ipython",
    "version": 3
   },
   "file_extension": ".py",
   "mimetype": "text/x-python",
   "name": "python",
   "nbconvert_exporter": "python",
   "pygments_lexer": "ipython3",
   "version": "3.9.16"
  }
 },
 "nbformat": 4,
 "nbformat_minor": 5
}
